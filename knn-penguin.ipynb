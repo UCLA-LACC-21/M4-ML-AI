{
 "cells": [
  {
   "cell_type": "markdown",
   "id": "309db18d",
   "metadata": {},
   "source": [
    "# k Nearest Neighbor (KNN) Algorithm for Penguin Dataset"
   ]
  },
  {
   "cell_type": "code",
   "execution_count": 1,
   "id": "7bddc8df",
   "metadata": {},
   "outputs": [],
   "source": [
    "import numpy as np\n",
    "import pandas as pd\n",
    "import seaborn as sns; sns.set()\n",
    "import matplotlib.pyplot as plt\n",
    "from matplotlib.colors import ListedColormap"
   ]
  },
  {
   "cell_type": "code",
   "execution_count": 2,
   "id": "48530174",
   "metadata": {},
   "outputs": [],
   "source": [
    "# parameters\n",
    "penguin_species = ['Adelie', 'Chinstrap', 'Gentoo']\n",
    "k = 15"
   ]
  },
  {
   "cell_type": "markdown",
   "id": "387b8980",
   "metadata": {},
   "source": [
    "## Load and clean data"
   ]
  },
  {
   "cell_type": "code",
   "execution_count": 3,
   "id": "9d285314",
   "metadata": {
    "scrolled": true
   },
   "outputs": [
    {
     "name": "stdout",
     "output_type": "stream",
     "text": [
      "     flipper_length_mm  bill_length_mm species\n",
      "0                181.0            39.1  Adelie\n",
      "1                186.0            39.5  Adelie\n",
      "2                195.0            40.3  Adelie\n",
      "3                  NaN             NaN  Adelie\n",
      "4                193.0            36.7  Adelie\n",
      "5                190.0            39.3  Adelie\n",
      "6                181.0            38.9  Adelie\n",
      "7                195.0            39.2  Adelie\n",
      "8                193.0            34.1  Adelie\n",
      "9                190.0            42.0  Adelie\n",
      "10               186.0            37.8  Adelie\n",
      "11               180.0            37.8  Adelie\n",
      "12               182.0            41.1  Adelie\n",
      "13               191.0            38.6  Adelie\n",
      "14               198.0            34.6  Adelie\n",
      "15               185.0            36.6  Adelie\n",
      "16               195.0            38.7  Adelie\n",
      "17               197.0            42.5  Adelie\n",
      "18               184.0            34.4  Adelie\n",
      "19               194.0            46.0  Adelie\n",
      "20               174.0            37.8  Adelie\n",
      "21               180.0            37.7  Adelie\n",
      "22               189.0            35.9  Adelie\n",
      "23               185.0            38.2  Adelie\n",
      "24               180.0            38.8  Adelie\n",
      "25               187.0            35.3  Adelie\n",
      "26               183.0            40.6  Adelie\n",
      "27               187.0            40.5  Adelie\n",
      "28               172.0            37.9  Adelie\n",
      "29               180.0            40.5  Adelie\n",
      "..                 ...             ...     ...\n",
      "314              214.0            44.5  Gentoo\n",
      "315              226.0            50.8  Gentoo\n",
      "316              216.0            49.4  Gentoo\n",
      "317              222.0            46.9  Gentoo\n",
      "318              203.0            48.4  Gentoo\n",
      "319              225.0            51.1  Gentoo\n",
      "320              219.0            48.5  Gentoo\n",
      "321              228.0            55.9  Gentoo\n",
      "322              215.0            47.2  Gentoo\n",
      "323              228.0            49.1  Gentoo\n",
      "324              216.0            47.3  Gentoo\n",
      "325              215.0            46.8  Gentoo\n",
      "326              210.0            41.7  Gentoo\n",
      "327              219.0            53.4  Gentoo\n",
      "328              208.0            43.3  Gentoo\n",
      "329              209.0            48.1  Gentoo\n",
      "330              216.0            50.5  Gentoo\n",
      "331              229.0            49.8  Gentoo\n",
      "332              213.0            43.5  Gentoo\n",
      "333              230.0            51.5  Gentoo\n",
      "334              217.0            46.2  Gentoo\n",
      "335              230.0            55.1  Gentoo\n",
      "336              217.0            44.5  Gentoo\n",
      "337              222.0            48.8  Gentoo\n",
      "338              214.0            47.2  Gentoo\n",
      "339                NaN             NaN  Gentoo\n",
      "340              215.0            46.8  Gentoo\n",
      "341              222.0            50.4  Gentoo\n",
      "342              212.0            45.2  Gentoo\n",
      "343              213.0            49.9  Gentoo\n",
      "\n",
      "[344 rows x 3 columns]\n",
      "39.5\n",
      "Adelie\n",
      "186.0\n"
     ]
    }
   ],
   "source": [
    "penguin_data = sns.load_dataset(\"penguins\")\n",
    "penguin_data = penguin_data[['flipper_length_mm', 'bill_length_mm', 'species']]\n",
    "\n",
    "# TODO: remove missing data\n",
    "\n",
    "print(penguin_data)\n",
    "\n",
    "# access data in pandas\n",
    "print(penguin_data.iloc[1,1])\n",
    "print(penguin_data.iloc[0,2])\n",
    "print(penguin_data.iloc[10,0])"
   ]
  },
  {
   "cell_type": "markdown",
   "id": "8afb3ee1",
   "metadata": {},
   "source": [
    "### Question 1\n",
    "If you output the data, we will see some missing data.\n",
    "\n",
    "The missing data pose difficulty when you apply the algorithm.\n",
    "\n",
    "Can you try to clean up the data?\n",
    "\n",
    "Hint: There is one-line code that can do the job. Maybe google \"remove missing data in pandas\", and learn from the example."
   ]
  },
  {
   "cell_type": "markdown",
   "id": "cca1c413",
   "metadata": {},
   "source": [
    "## Classify a single point by KNN"
   ]
  },
  {
   "cell_type": "code",
   "execution_count": 4,
   "id": "34f70ecc",
   "metadata": {},
   "outputs": [
    {
     "name": "stdout",
     "output_type": "stream",
     "text": [
      "195\n",
      "45\n"
     ]
    },
    {
     "data": {
      "image/png": "[encoded data removed]",
      "text/plain": [
       "<Figure size 432x288 with 1 Axes>"
      ]
     },
     "metadata": {
      "needs_background": "light"
     },
     "output_type": "display_data"
    }
   ],
   "source": [
    "new_point = np.array([[195, 45]])\n",
    "\n",
    "# access data\n",
    "print(new_point[0,0])\n",
    "print(new_point[0,1])\n",
    "\n",
    "sns.scatterplot(data=penguin_data, x=\"flipper_length_mm\", y=\"bill_length_mm\", hue=\"species\")\n",
    "plt.scatter(new_point[:,0], new_point[:,1], marker='x', color='k')\n",
    "xmin, xmax, ymin, ymax = plt.axis()"
   ]
  },
  {
   "cell_type": "code",
   "execution_count": 5,
   "id": "e50d78f9",
   "metadata": {},
   "outputs": [
    {
     "ename": "IndentationError",
     "evalue": "expected an indented block (<ipython-input-5-b6e95b135cff>, line 30)",
     "output_type": "error",
     "traceback": [
      "\u001b[0;36m  File \u001b[0;32m\"<ipython-input-5-b6e95b135cff>\"\u001b[0;36m, line \u001b[0;32m30\u001b[0m\n\u001b[0;31m    return species_arr\u001b[0m\n\u001b[0m    ^\u001b[0m\n\u001b[0;31mIndentationError\u001b[0m\u001b[0;31m:\u001b[0m expected an indented block\n"
     ]
    }
   ],
   "source": [
    "def knn(train_data, test_data, k):\n",
    "\t'''\n",
    "\t\tInputs:\n",
    "\t\t- train_data is a numpy array of size (num_examples, 3)\n",
    "\t\t- test_data is a numpy array of size (num_test, 1)\n",
    "\t'''\n",
    "\n",
    "\tspecies_arr = np.zeros((len(test_data), 1), dtype=int)\n",
    "\n",
    "    # TODO\n",
    "\n",
    "\n",
    "\tfor j in range(len(test_data)):\n",
    "\n",
    "\t\t# 1. calculate the distance\n",
    "\t\tdistance_arr = np.zeros((len(train_data), 1))\n",
    "        \n",
    "\t\tfor i in range(len(train_data)) :\n",
    "\t\t\t# distance_arr[i,0] =  \n",
    "\n",
    "        \n",
    "\t\t# 2. pick the k nearest neighbor by the distance\n",
    "\n",
    "\t\t# 3. check out the labels of these k nearest neighbors\n",
    "\n",
    "\t\t# 4. count each label\n",
    "        \n",
    "\t\t# 5. decide the label from majority vote\n",
    "                \n",
    "\treturn species_arr"
   ]
  },
  {
   "cell_type": "code",
   "execution_count": null,
   "id": "985a395e",
   "metadata": {},
   "outputs": [],
   "source": [
    "detected_arr = knn(penguin_data, new_point, k)\n",
    "\n",
    "for j in range(len(new_point)):\n",
    "\tprint('The predicted species is ' + penguin_species[detected_arr[j,0]])"
   ]
  },
  {
   "cell_type": "markdown",
   "id": "4269e239",
   "metadata": {},
   "source": [
    "### Question 2\n",
    "The correct answer should be Chinstrap.\n",
    "\n",
    "Implement the function `knn` and you will see the correct result."
   ]
  },
  {
   "cell_type": "markdown",
   "id": "df13b62f",
   "metadata": {},
   "source": [
    "## Creat the whole decision map"
   ]
  },
  {
   "cell_type": "code",
   "execution_count": null,
   "id": "2b8be347",
   "metadata": {},
   "outputs": [],
   "source": [
    "x_min, x_max = penguin_data.iloc[:,0].min(), penguin_data.iloc[:,0].max()\n",
    "y_min, y_max = penguin_data.iloc[:,1].min(), penguin_data.iloc[:,1].max()\n",
    "x_range = x_max - x_min\n",
    "y_range = y_max - y_min\n",
    "xx, yy = np.meshgrid(np.arange(x_min - 0.1*x_range, x_max + 0.1*x_range, x_range*0.02),\n",
    "                     np.arange(y_min - 0.1*y_range, y_max + 0.1*y_range, x_range*0.02))\n",
    "\n",
    "species_map = knn(penguin_data, np.c_[xx.ravel(), yy.ravel()], k);\n",
    "\n",
    "\n",
    "# Put the result into a color plot\n",
    "species_map = np.asarray(species_map).reshape(xx.shape)\n",
    "\n",
    "\n",
    "plt.figure()\n",
    "plt.pcolormesh(xx, yy, species_map, alpha=0.3, edgecolors='none',\n",
    "\tcmap=ListedColormap(sns.color_palette().as_hex()[0:3]), vmin=0, vmax=2)\n",
    "\n",
    "sns.scatterplot(data=penguin_data, x=\"flipper_length_mm\", y=\"bill_length_mm\", hue=\"species\")\n",
    "plt.xlim([xmin, xmax])\n",
    "plt.ylim([ymin, ymax])"
   ]
  },
  {
   "cell_type": "markdown",
   "id": "574e4f3c",
   "metadata": {},
   "source": [
    "### Question 3\n",
    "Once the function `knn` is correct, you will see the map."
   ]
  },
  {
   "cell_type": "markdown",
   "id": "45307ecb",
   "metadata": {},
   "source": [
    "### Discussion\n",
    "- the distance between two data points\n",
    "- the number of neighbors"
   ]
  },
  {
   "cell_type": "markdown",
   "id": "63616e66",
   "metadata": {},
   "source": [
    "# K means clustering"
   ]
  },
  {
   "cell_type": "code",
   "execution_count": null,
   "id": "62c3a990",
   "metadata": {},
   "outputs": [],
   "source": [
    "from sklearn.cluster import KMeans\n",
    "\n",
    "no_label_penguin_data = penguin_data[['flipper_length_mm', 'bill_length_mm']]\n",
    "kmeans = KMeans(n_clusters=3, random_state=0).fit(no_label_penguin_data)\n",
    "print(kmeans.labels_)\n",
    "\n",
    "sns.scatterplot(data=no_label_penguin_data, x=\"flipper_length_mm\", y=\"bill_length_mm\", hue=kmeans.labels_)\n",
    "plt.xlim([xmin, xmax])\n",
    "plt.ylim([ymin, ymax])"
   ]
  },
  {
   "cell_type": "markdown",
   "id": "fbd92b62",
   "metadata": {},
   "source": [
    "### Question 4\n",
    "Please compare the result to the first figure (data with label), and share your observation.\n",
    "\n",
    "Please also try different clustering algorithms from `sklearn`, and compare the difference."
   ]
  }
 ],
 "metadata": {
  "kernelspec": {
   "display_name": "Python 3",
   "language": "python",
   "name": "python3"
  },
  "language_info": {
   "codemirror_mode": {
    "name": "ipython",
    "version": 3
   },
   "file_extension": ".py",
   "mimetype": "text/x-python",
   "name": "python",
   "nbconvert_exporter": "python",
   "pygments_lexer": "ipython3",
   "version": "3.5.2"
  }
 },
 "nbformat": 4,
 "nbformat_minor": 5
}
