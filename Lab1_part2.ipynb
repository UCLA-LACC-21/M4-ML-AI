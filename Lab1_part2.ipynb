{
  "nbformat": 4,
  "nbformat_minor": 0,
  "metadata": {
    "colab": {
      "name": "Lab1.ipynb",
      "provenance": [],
      "collapsed_sections": []
    },
    "kernelspec": {
      "name": "python3",
      "display_name": "Python 3"
    },
    "language_info": {
      "name": "python"
    }
  },
  "cells": [
    {
      "cell_type": "markdown",
      "metadata": {
        "id": "OCqRDS_8PTbS"
      },
      "source": [
        "# Part 2"
      ]
    },
    {
      "cell_type": "markdown",
      "metadata": {
        "id": "4cTRI6hhk_N0"
      },
      "source": [
        "Now it's time to do it yourself. There are two problems in this lab, one is for linear regression and the other is for perceptron. **For the first problem you need to download advertising.csv from github.**\n",
        "\n",
        " Data loading is done for you (**you still need to assign columns to X and y and do train/test split**), and you need to implement everything else yourself. \n",
        "\n",
        "For the problem, we are using the advertising dataset, which use advertising information on TV, Radio and Newspaper to predict sales number."
      ]
    },
    {
      "cell_type": "code",
      "metadata": {
        "id": "4yD2WyEfWif-"
      },
      "source": [
        "import pandas as pd\n",
        "import numpy as np\n",
        "from matplotlib import pyplot as plt\n",
        "\n",
        "df = pd.read_csv('./advertising.csv')\n",
        "df.head()"
      ],
      "execution_count": null,
      "outputs": []
    },
    {
      "cell_type": "markdown",
      "metadata": {
        "id": "MOyo_lh0nC8N"
      },
      "source": [
        "Implement the rest yourself, don't forget you can use seaborn to visualize the dataset."
      ]
    },
    {
      "cell_type": "code",
      "metadata": {
        "id": "YvdP5P8snDUq"
      },
      "source": [
        "# your code for data generation, what is the targer for this dataset?\n",
        "X =\n",
        "y =  #should be the target column\n",
        "# Don't forget to do train test split!\n",
        "\n",
        "#Load the model from sklearn and use it for prediction\n"
      ],
      "execution_count": null,
      "outputs": []
    },
    {
      "cell_type": "markdown",
      "metadata": {
        "id": "ACR-OK1jcdFc"
      },
      "source": [
        "Now let's try to apply MLP on the famous iris dataset\n",
        "Iris dataset contains 3 classes of 50 instances each, where each class refers to a type of iris plant. It's a good toy dataset for classification tasks"
      ]
    },
    {
      "cell_type": "code",
      "metadata": {
        "id": "A8DoXRVnccL0"
      },
      "source": [
        "#First download the dataset from sklearn, and then loaded into panda dataframe for easier visualization and processing.\n",
        "import numpy as np\n",
        "import pandas as pd\n",
        "from sklearn.datasets import load_iris\n",
        "\n",
        "iris = load_iris()\n",
        "data_iris = pd.DataFrame(data= np.c_[iris['data'], iris['target']],\n",
        "                     columns= iris['feature_names'] + ['target'])\n"
      ],
      "execution_count": null,
      "outputs": []
    },
    {
      "cell_type": "code",
      "metadata": {
        "id": "wbkDeOFReNuo"
      },
      "source": [
        "#Now print the columns\n",
        "data_iris.info()"
      ],
      "execution_count": null,
      "outputs": []
    },
    {
      "cell_type": "markdown",
      "metadata": {
        "id": "D5GuRCS9em34"
      },
      "source": [
        "Now use try to creat your own train and test set from the loaded panda dataframe, remember to first create x and Y by choosing corresponding colomns. Here y should be the target colummn."
      ]
    },
    {
      "cell_type": "code",
      "metadata": {
        "id": "7zE6fDQ2eeK8"
      },
      "source": [
        "# your code for data generation.\n",
        "X =\n",
        "y = \n",
        "# Don't forget to do train test split!\n"
      ],
      "execution_count": null,
      "outputs": []
    },
    {
      "cell_type": "markdown",
      "metadata": {
        "id": "uy8AFbhjfbGF"
      },
      "source": [
        "For your convinence, this time we will not implement Perceptron from scratch. Again we use the model from sklearn."
      ]
    },
    {
      "cell_type": "code",
      "metadata": {
        "id": "dkYn5gfsdyfw"
      },
      "source": [
        "from sklearn.linear_model import Perceptron\n",
        "\n",
        "model = Perceptron()#use the perceptron model provided by sklearn\n",
        "#complete the rest of the code to finish the training\n",
        "#The format of using the perceptron model is almost same as regression model"
      ],
      "execution_count": null,
      "outputs": []
    },
    {
      "cell_type": "markdown",
      "metadata": {
        "id": "0k3Qa4f7nAvK"
      },
      "source": [
        "Finally, use sklearn's accuraccy score function to evalutate the classification accuracy of the trained model on test set"
      ]
    },
    {
      "cell_type": "code",
      "metadata": {
        "id": "7if2dzRZfy-M"
      },
      "source": [
        "from sklearn.metrics import accuracy_score\n",
        "print(accuracy_score(y_true, y_pred)) #change y_true and y_pred to your own name if necessery"
      ],
      "execution_count": null,
      "outputs": []
    }
  ]
}